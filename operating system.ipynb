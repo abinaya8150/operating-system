{
 "cells": [
  {
   "cell_type": "markdown",
   "id": "f5535daf",
   "metadata": {},
   "source": [
    "# Define the sets\n",
    "A = {1, 2, 3, 4, 5}\n",
    "B = {4, 5, 6, 7, 8}\n",
    "\n",
    "# Union\n",
    "union_set = A.union(B)\n",
    "print(\"Union of A and B:\", union_set)\n",
    "\n",
    "# Intersection\n",
    "intersection_set = A.intersection(B)\n",
    "print(\"Intersection of A and B:\", intersection_set)\n",
    "\n",
    "# Difference (A - B)\n",
    "difference_set_A_B = A.difference(B)\n",
    "print(\"Difference of A and B:\", difference_set_A_B)\n",
    "\n",
    "# Difference (B - A)\n",
    "difference_set_B_A = B.difference(A)\n",
    "print(\"Difference of B and A:\", difference_set_B_A)\n",
    "\n",
    "# Symmetric Difference\n",
    "symmetric_difference_set = A.symmetric_difference(B)\n",
    "print(\"Symmetric Difference of A and B:\", symmetric_difference_set)\n"
   ]
  },
  {
   "cell_type": "code",
   "execution_count": 2,
   "id": "b237e0a0",
   "metadata": {},
   "outputs": [
    {
     "name": "stdout",
     "output_type": "stream",
     "text": [
      "Union of A and B: {1, 2, 3, 4, 5, 6, 7, 8}\n",
      "Intersection of A and B: {4, 5}\n",
      "Difference of A and B: {1, 2, 3}\n",
      "Difference of B and A: {8, 6, 7}\n",
      "Symmetric Difference of A and B: {1, 2, 3, 6, 7, 8}\n"
     ]
    }
   ],
   "source": [
    "\n",
    "A = {1, 2, 3, 4, 5}\n",
    "B = {4, 5, 6, 7, 8}\n",
    "\n",
    "union_set = A.union(B)\n",
    "print(\"Union of A and B:\", union_set)\n",
    "\n",
    "intersection_set = A.intersection(B)\n",
    "print(\"Intersection of A and B:\", intersection_set)\n",
    "\n",
    "\n",
    "difference_set_A_B = A.difference(B)\n",
    "print(\"Difference of A and B:\", difference_set_A_B)\n",
    "\n",
    "\n",
    "difference_set_B_A = B.difference(A)\n",
    "print(\"Difference of B and A:\", difference_set_B_A)\n",
    "\n",
    "\n",
    "symmetric_difference_set = A.symmetric_difference(B)\n",
    "print(\"Symmetric Difference of A and B:\", symmetric_difference_set)\n"
   ]
  },
  {
   "cell_type": "code",
   "execution_count": null,
   "id": "e891270a",
   "metadata": {},
   "outputs": [],
   "source": []
  }
 ],
 "metadata": {
  "kernelspec": {
   "display_name": "Python 3 (ipykernel)",
   "language": "python",
   "name": "python3"
  },
  "language_info": {
   "codemirror_mode": {
    "name": "ipython",
    "version": 3
   },
   "file_extension": ".py",
   "mimetype": "text/x-python",
   "name": "python",
   "nbconvert_exporter": "python",
   "pygments_lexer": "ipython3",
   "version": "3.11.5"
  }
 },
 "nbformat": 4,
 "nbformat_minor": 5
}
